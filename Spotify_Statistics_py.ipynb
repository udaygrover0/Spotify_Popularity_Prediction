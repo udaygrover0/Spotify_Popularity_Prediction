{
  "nbformat": 4,
  "nbformat_minor": 0,
  "metadata": {
    "colab": {
      "provenance": [],
      "authorship_tag": "ABX9TyMewHdsDGoHBSPi6c2h3qMe",
      "include_colab_link": true
    },
    "kernelspec": {
      "name": "python3",
      "display_name": "Python 3"
    },
    "language_info": {
      "name": "python"
    }
  },
  "cells": [
    {
      "cell_type": "markdown",
      "metadata": {
        "id": "view-in-github",
        "colab_type": "text"
      },
      "source": [
        "<a href=\"https://colab.research.google.com/github/udaygrover0/Spotify_Popularity_Prediction/blob/main/Spotify_Statistics_py.ipynb\" target=\"_parent\"><img src=\"https://colab.research.google.com/assets/colab-badge.svg\" alt=\"Open In Colab\"/></a>"
      ]
    },
    {
      "cell_type": "markdown",
      "source": [
        "# Questions\n",
        "\n",
        "\n",
        "---\n",
        "\n",
        "\n",
        "1.   Use a t-test to compare the mean popularity scores of high-energy songs (above the median energy level) and low-energy songs (below the median energy level).\n",
        "2.   What is the correlation between danceability and popularity\n",
        "3. Using Chi Square test can we find if there is any relation between genre of a song and its popularity\n",
        "4. Using T test see if songs before or after 2000 are more popular\n",
        "\n",
        "\n"
      ],
      "metadata": {
        "id": "Ebhc-jpptxoQ"
      }
    },
    {
      "cell_type": "code",
      "execution_count": 1,
      "metadata": {
        "id": "8mkldOZO8AdD",
        "colab": {
          "base_uri": "https://localhost:8080/"
        },
        "outputId": "bd4d9bc2-39af-462f-a671-f5e834ba9d27"
      },
      "outputs": [
        {
          "output_type": "stream",
          "name": "stdout",
          "text": [
            "Requirement already satisfied: pandas in /usr/local/lib/python3.10/dist-packages (2.1.4)\n",
            "Requirement already satisfied: numpy in /usr/local/lib/python3.10/dist-packages (1.26.4)\n",
            "Requirement already satisfied: scipy in /usr/local/lib/python3.10/dist-packages (1.13.1)\n",
            "Requirement already satisfied: scikit-learn in /usr/local/lib/python3.10/dist-packages (1.3.2)\n",
            "Requirement already satisfied: matplotlib in /usr/local/lib/python3.10/dist-packages (3.7.1)\n",
            "Requirement already satisfied: seaborn in /usr/local/lib/python3.10/dist-packages (0.13.1)\n",
            "Requirement already satisfied: statsmodels in /usr/local/lib/python3.10/dist-packages (0.14.2)\n",
            "Requirement already satisfied: python-dateutil>=2.8.2 in /usr/local/lib/python3.10/dist-packages (from pandas) (2.8.2)\n",
            "Requirement already satisfied: pytz>=2020.1 in /usr/local/lib/python3.10/dist-packages (from pandas) (2024.1)\n",
            "Requirement already satisfied: tzdata>=2022.1 in /usr/local/lib/python3.10/dist-packages (from pandas) (2024.1)\n",
            "Requirement already satisfied: joblib>=1.1.1 in /usr/local/lib/python3.10/dist-packages (from scikit-learn) (1.4.2)\n",
            "Requirement already satisfied: threadpoolctl>=2.0.0 in /usr/local/lib/python3.10/dist-packages (from scikit-learn) (3.5.0)\n",
            "Requirement already satisfied: contourpy>=1.0.1 in /usr/local/lib/python3.10/dist-packages (from matplotlib) (1.2.1)\n",
            "Requirement already satisfied: cycler>=0.10 in /usr/local/lib/python3.10/dist-packages (from matplotlib) (0.12.1)\n",
            "Requirement already satisfied: fonttools>=4.22.0 in /usr/local/lib/python3.10/dist-packages (from matplotlib) (4.53.1)\n",
            "Requirement already satisfied: kiwisolver>=1.0.1 in /usr/local/lib/python3.10/dist-packages (from matplotlib) (1.4.5)\n",
            "Requirement already satisfied: packaging>=20.0 in /usr/local/lib/python3.10/dist-packages (from matplotlib) (24.1)\n",
            "Requirement already satisfied: pillow>=6.2.0 in /usr/local/lib/python3.10/dist-packages (from matplotlib) (9.4.0)\n",
            "Requirement already satisfied: pyparsing>=2.3.1 in /usr/local/lib/python3.10/dist-packages (from matplotlib) (3.1.2)\n",
            "Requirement already satisfied: patsy>=0.5.6 in /usr/local/lib/python3.10/dist-packages (from statsmodels) (0.5.6)\n",
            "Requirement already satisfied: six in /usr/local/lib/python3.10/dist-packages (from patsy>=0.5.6->statsmodels) (1.16.0)\n"
          ]
        }
      ],
      "source": [
        "pip install pandas numpy scipy scikit-learn matplotlib seaborn statsmodels"
      ]
    },
    {
      "cell_type": "code",
      "source": [
        "from google.colab import drive\n",
        "drive.mount('/gdrive')"
      ],
      "metadata": {
        "colab": {
          "base_uri": "https://localhost:8080/"
        },
        "id": "lsXgkKaFvWyN",
        "outputId": "c2fe7f8e-c230-4ff3-fe46-6c79153a35c0"
      },
      "execution_count": 3,
      "outputs": [
        {
          "output_type": "stream",
          "name": "stdout",
          "text": [
            "Mounted at /gdrive\n"
          ]
        }
      ]
    },
    {
      "cell_type": "code",
      "source": [
        "data = pd.read_csv('/gdrive/MyDrive/deeplearning/spotify_songs.csv')"
      ],
      "metadata": {
        "id": "wcmUbm9IvdKo"
      },
      "execution_count": 6,
      "outputs": []
    },
    {
      "cell_type": "code",
      "source": [
        "#prompt: help me make a code to do a t-test and compare the mean popularity scores of high-energy songs (above the median energy level) and low-energy songs (below the median energy level).\n",
        "import pandas as pd\n",
        "import numpy as np\n",
        "from scipy.stats import ttest_ind\n",
        "\n",
        "\n",
        "# Calculate median energy level\n",
        "median_energy = data['energy'].median()\n",
        "\n",
        "# Split the dataset into high-energy and low-energy songs\n",
        "high_energy_songs = data[data['energy'] > median_energy]['track_popularity']\n",
        "low_energy_songs = data[data['energy'] <= median_energy]['track_popularity']\n",
        "\n",
        "# Perform the t-test\n",
        "t_stat, p_value = ttest_ind(high_energy_songs, low_energy_songs)\n",
        "\n",
        "# Display the result\n",
        "print(f\"T-statistic: {t_stat}, P-value: {p_value}\")\n",
        "\n",
        "# Print inference\n",
        "alpha = 0.05  # significance level\n",
        "if p_value < alpha:\n",
        "    print(\"Reject the null hypothesis: There is a significant difference in popularity between high-energy and low-energy songs.\")\n",
        "else:\n",
        "    print(\"Fail to reject the null hypothesis: There is no significant difference in popularity between high-energy and low-energy songs.\")\n",
        "\n"
      ],
      "metadata": {
        "colab": {
          "base_uri": "https://localhost:8080/"
        },
        "id": "dVJLCmHPvfcN",
        "outputId": "827dd6ca-468b-4493-972c-b597edf1ae06"
      },
      "execution_count": 8,
      "outputs": [
        {
          "output_type": "stream",
          "name": "stdout",
          "text": [
            "T-statistic: -18.494017524760025, P-value: 5.617129876686557e-76\n",
            "Reject the null hypothesis: There is a significant difference in popularity between high-energy and low-energy songs.\n"
          ]
        }
      ]
    },
    {
      "cell_type": "code",
      "source": [
        "# prompt: help me find the correlation between danceability and popularity and also explain the output\n",
        "\n",
        "# Calculate the correlation coefficient\n",
        "correlation = data['danceability'].corr(data['track_popularity'])\n",
        "\n",
        "print(f\"Correlation between danceability and popularity: {correlation}\")\n",
        "\n",
        "# Interpretation\n",
        "if correlation > 0:\n",
        "  print(\"Positive correlation: As danceability increases, popularity tends to increase.\")\n",
        "elif correlation < 0:\n",
        "  print(\"Negative correlation: As danceability increases, popularity tends to decrease.\")\n",
        "else:\n",
        "  print(\"No correlation: There is no linear relationship between danceability and popularity.\")\n"
      ],
      "metadata": {
        "colab": {
          "base_uri": "https://localhost:8080/"
        },
        "id": "WgGE4s-SwVwV",
        "outputId": "bc633a7c-203e-45e4-b1cc-83c32cec87a4"
      },
      "execution_count": 9,
      "outputs": [
        {
          "output_type": "stream",
          "name": "stdout",
          "text": [
            "Correlation between danceability and popularity: 0.06474767126121224\n",
            "Positive correlation: As danceability increases, popularity tends to increase.\n"
          ]
        }
      ]
    },
    {
      "cell_type": "code",
      "source": [
        "# prompt: Using Chi Square test can we find if there is any relation between genre of a song and total popularity also explain the output\n",
        "\n",
        "from scipy.stats import chi2_contingency\n",
        "\n",
        "# Create a contingency table\n",
        "contingency_table = pd.crosstab(data['playlist_genre'], data['track_popularity'])\n",
        "\n",
        "# Perform the Chi-Square test\n",
        "chi2, p, dof, expected = chi2_contingency(contingency_table)\n",
        "\n",
        "# Display the result\n",
        "print(f\"Chi-Square statistic: {chi2}, P-value: {p}, Degrees of freedom: {dof}\")\n",
        "\n",
        "# Print inference\n",
        "alpha = 0.05  # significance level\n",
        "if p < alpha:\n",
        "    print(\"Reject the null hypothesis: There is a significant association between genre and popularity.\")\n",
        "else:\n",
        "    print(\"Fail to reject the null hypothesis: There is no significant association between genre and popularity.\")\n"
      ],
      "metadata": {
        "colab": {
          "base_uri": "https://localhost:8080/"
        },
        "id": "Sf_nQEW9wwvC",
        "outputId": "c70cc32c-9ad0-4ed1-c1e9-9452a0fe81b0"
      },
      "execution_count": 11,
      "outputs": [
        {
          "output_type": "stream",
          "name": "stdout",
          "text": [
            "Chi-Square statistic: 2780.897614461394, P-value: 5.692735184877e-312, Degrees of freedom: 500\n",
            "Reject the null hypothesis: There is a significant association between genre and popularity.\n"
          ]
        }
      ]
    },
    {
      "cell_type": "code",
      "source": [
        "# prompt: use T test to find if songs before or after 2000 are more popular\n",
        "\n",
        "# Extract the release year and popularity\n",
        "years = data['track_album_release_date'].str[:4].astype(int)\n",
        "popularity = data['track_popularity']\n",
        "\n",
        "# Split the dataset into songs before and after 2000\n",
        "songs_before_2000 = popularity[years < 2000]\n",
        "songs_after_2000 = popularity[years >= 2000]\n",
        "\n",
        "# Perform the t-test\n",
        "t_stat, p_value = ttest_ind(songs_before_2000, songs_after_2000)\n",
        "\n",
        "# Display the result\n",
        "print(f\"T-statistic: {t_stat}, P-value: {p_value}\")\n",
        "\n",
        "# Print inference\n",
        "alpha = 0.05  # significance level\n",
        "if p_value < alpha:\n",
        "    print(\"Reject the null hypothesis: There is a significant difference in popularity between songs before and after 2000.\")\n",
        "else:\n",
        "    print(\"Fail to reject the null hypothesis: There is no significant difference in popularity between songs before and after 2000.\")\n"
      ],
      "metadata": {
        "colab": {
          "base_uri": "https://localhost:8080/"
        },
        "id": "OaxT9PLjxr3C",
        "outputId": "606a789c-64bf-4af3-d14c-a08d9d9ed440"
      },
      "execution_count": 12,
      "outputs": [
        {
          "output_type": "stream",
          "name": "stdout",
          "text": [
            "T-statistic: 1.3558848775908696, P-value: 0.1751451255321626\n",
            "Fail to reject the null hypothesis: There is no significant difference in popularity between songs before and after 2000.\n"
          ]
        }
      ]
    }
  ]
}